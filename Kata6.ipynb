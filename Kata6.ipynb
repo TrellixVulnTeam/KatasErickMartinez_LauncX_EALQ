{
 "cells": [
  {
   "cell_type": "markdown",
   "metadata": {},
   "source": [
    "# Ejercicio1: Crear y usar listas de Python\n",
    "# Ejercicio: Usar listas para almacenar nombres de planetas"
   ]
  },
  {
   "cell_type": "code",
   "execution_count": 2,
   "metadata": {},
   "outputs": [
    {
     "name": "stdout",
     "output_type": "stream",
     "text": [
      "En nuestro suistema solar hay  8 planetas\n"
     ]
    }
   ],
   "source": [
    "# Creamos la lista planets y la mostramos\n",
    "\n",
    "planetas = ['Mercurio', 'Venus', 'Tierra', 'Marte', 'Jupiter', 'Saturno', 'Urano', 'Neptuno']\n",
    "\n",
    "print('En nuestro sistema solar hay ', len(planetas), 'planetas')"
   ]
  },
  {
   "cell_type": "markdown",
   "metadata": {},
   "source": [
    "# Ejercicio 2: Trabajando con datos de una lista\n",
    "# Usar slices para recuperar partes de una lista\n"
   ]
  },
  {
   "cell_type": "code",
   "execution_count": 2,
   "metadata": {},
   "outputs": [
    {
     "ename": "ValueError",
     "evalue": "'' is not in list",
     "output_type": "error",
     "traceback": [
      "\u001b[1;31m---------------------------------------------------------------------------\u001b[0m",
      "\u001b[1;31mValueError\u001b[0m                                Traceback (most recent call last)",
      "\u001b[1;32mc:\\Users\\erick\\OneDrive\\Escritorio\\python_innovaccion\\kata5.ipynb Cell 4'\u001b[0m in \u001b[0;36m<module>\u001b[1;34m\u001b[0m\n\u001b[0;32m      <a href='vscode-notebook-cell:/c%3A/Users/erick/OneDrive/Escritorio/python_innovaccion/kata5.ipynb#ch0000004?line=4'>5</a>\u001b[0m busqueda_planeta \u001b[39m=\u001b[39m \u001b[39minput\u001b[39m(\u001b[39m'\u001b[39m\u001b[39mPor favor ingrese el nombre del planeta (Debe contener una mayúscula al inicio)\u001b[39m\u001b[39m'\u001b[39m)\n\u001b[0;32m      <a href='vscode-notebook-cell:/c%3A/Users/erick/OneDrive/Escritorio/python_innovaccion/kata5.ipynb#ch0000004?line=6'>7</a>\u001b[0m \u001b[39m#Bucando el nombre en la lista\u001b[39;00m\n\u001b[1;32m----> <a href='vscode-notebook-cell:/c%3A/Users/erick/OneDrive/Escritorio/python_innovaccion/kata5.ipynb#ch0000004?line=8'>9</a>\u001b[0m indice_planeta \u001b[39m=\u001b[39m planetas\u001b[39m.\u001b[39;49mindex(busqueda_planeta)\n\u001b[0;32m     <a href='vscode-notebook-cell:/c%3A/Users/erick/OneDrive/Escritorio/python_innovaccion/kata5.ipynb#ch0000004?line=10'>11</a>\u001b[0m \u001b[39m#Mostrando los planetas más cercanos añ sol\u001b[39;00m\n\u001b[0;32m     <a href='vscode-notebook-cell:/c%3A/Users/erick/OneDrive/Escritorio/python_innovaccion/kata5.ipynb#ch0000004?line=12'>13</a>\u001b[0m \u001b[39mprint\u001b[39m(\u001b[39m'\u001b[39m\u001b[39mLos planetas más cercanos al sol son: \u001b[39m\u001b[39m'\u001b[39m \u001b[39m+\u001b[39m busqueda_planeta)\n",
      "\u001b[1;31mValueError\u001b[0m: '' is not in list"
     ]
    }
   ],
   "source": [
    "# Lista de planetas\n",
    "planetas = ['Mercurio', 'Venus', 'Tierra', 'Marte', 'Jupiter', 'Saturno', 'Urano' 'Neptuno']\n",
    "\n",
    "# Solicitamos el nombre de un planeta\n",
    "busqueda_planeta = input('Por favor ingrese el nombre del planeta (Debe contener una mayúscula al inicio)')\n",
    "\n",
    "#Bucando el nombre en la lista\n",
    "\n",
    "indice_planeta = planetas.index(busqueda_planeta)\n",
    "\n",
    "#Mostrando los planetas más cercanos añ sol\n",
    "\n",
    "print('Los planetas más cercanos al sol son: ' + busqueda_planeta)\n",
    "print(planetas[0:indice_planeta])\n",
    "\n",
    "# Mostrando los planetas más lejanos al sol\n",
    "\n",
    "print('Los planetas más lejanos al sol son:  ' + busqueda_planeta)\n",
    "print(planetas[busqueda_planeta + 1:])"
   ]
  }
 ],
 "metadata": {
  "interpreter": {
   "hash": "22398c842aa12e13fa2db631d042e73356993ccf679696a2e44969028959d105"
  },
  "kernelspec": {
   "display_name": "Python 3.10.2 ('env': venv)",
   "language": "python",
   "name": "python3"
  },
  "language_info": {
   "codemirror_mode": {
    "name": "ipython",
    "version": 3
   },
   "file_extension": ".py",
   "mimetype": "text/x-python",
   "name": "python",
   "nbconvert_exporter": "python",
   "pygments_lexer": "ipython3",
   "version": "3.10.2"
  },
  "orig_nbformat": 4
 },
 "nbformat": 4,
 "nbformat_minor": 2
}
