{
 "cells": [
  {
   "cell_type": "markdown",
   "metadata": {},
   "source": [
    " # Ejercicio1 - Utilizar operadores aritméticos"
   ]
  },
  {
   "cell_type": "code",
   "execution_count": 1,
   "metadata": {},
   "outputs": [
    {
     "name": "stdout",
     "output_type": "stream",
     "text": [
      "-628949330\n",
      "-390577533.93\n"
     ]
    }
   ],
   "source": [
    "#Con los valores obtenidos, es el momento de añadir el código para realizar la operación. Restarás el primer planeta del segundo para \n",
    "# determinar la distancia en kilómetros. A continuación, puedes convertir la distancia del kilómetro en millas multiplicándola por 0.621.\n",
    "\n",
    "# Creando variables para guardar las disntancias\n",
    "\n",
    "\n",
    "planeta_uno = 149597870\n",
    "planeta_dos = 778547200\n",
    "\n",
    "# Calculando la dustancia entre los planetas\n",
    "\n",
    "distancia = planeta_uno - planeta_dos\n",
    "print(distancia)\n",
    "\n",
    "distancia_final = distancia * 0.621\n",
    "print(distancia_final)"
   ]
  },
  {
   "cell_type": "markdown",
   "metadata": {},
   "source": [
    "# Ejercicio 2: convierte cadenas en números y usa valores absolutos\n",
    "# Crear una aplicación para trabajar con números y entrada de usuario"
   ]
  },
  {
   "cell_type": "code",
   "execution_count": 2,
   "metadata": {},
   "outputs": [
    {
     "name": "stdout",
     "output_type": "stream",
     "text": [
      "-128000\n",
      "79488.0\n"
     ]
    }
   ],
   "source": [
    "# Almacenar las entradas del usuario\n",
    "planeta_uno = input('Introduzca la distancia del sol para el primer planeta en KM')\n",
    "planeta_dos = input('Introduzca la distancia desde el sol para el segundo planeta en KM')\n",
    "\n",
    "# Conviertiendo de String a entero\n",
    "planeta_uno = int(planeta_uno)\n",
    "planeta_dos = int(planeta_dos)\n",
    "\n",
    "# Realizar el cálculo y determinar el valor absoluto\n",
    "distancia_kilometros = planeta_dos - planeta_uno\n",
    "print(distancia_kilometros)\n",
    "\n",
    "# Convertir de KM a Millas\n",
    "distancia_millas = distancia_kilometros * 0.621\n",
    "print(abs(distancia_millas))\n"
   ]
  }
 ],
 "metadata": {
  "interpreter": {
   "hash": "22398c842aa12e13fa2db631d042e73356993ccf679696a2e44969028959d105"
  },
  "kernelspec": {
   "display_name": "Python 3.10.2 ('env': venv)",
   "language": "python",
   "name": "python3"
  },
  "language_info": {
   "codemirror_mode": {
    "name": "ipython",
    "version": 3
   },
   "file_extension": ".py",
   "mimetype": "text/x-python",
   "name": "python",
   "nbconvert_exporter": "python",
   "pygments_lexer": "ipython3",
   "version": "3.10.2"
  },
  "orig_nbformat": 4
 },
 "nbformat": 4,
 "nbformat_minor": 2
}
