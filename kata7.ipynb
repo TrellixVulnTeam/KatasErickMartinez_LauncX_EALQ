{
 "cells": [
  {
   "cell_type": "markdown",
   "metadata": {},
   "source": [
    "# Ejercicio 1: Creación de un bucle \"while\""
   ]
  },
  {
   "cell_type": "code",
   "execution_count": 2,
   "metadata": {},
   "outputs": [],
   "source": [
    "# Declarando las variables\n",
    "\n",
    "new_planet = ''\n",
    "planets = []\n",
    "\n",
    "# Ciclo While\n",
    "\n",
    "while new_planet.lower() != 'done':\n",
    "    if new_planet:\n",
    "        planets.append(new_planet)\n",
    "    new_planet = input('Ingresa el nuevo planeta ')\n",
    "\n",
    "\n",
    "# Escribe tu ciclo for para iterar en una lista de planetas\n",
    "\n",
    "for planet in planets:\n",
    "    print(planet)    "
   ]
  },
  {
   "cell_type": "code",
   "execution_count": 1,
   "metadata": {},
   "outputs": [
    {
     "ename": "NameError",
     "evalue": "name 'planets' is not defined",
     "output_type": "error",
     "traceback": [
      "\u001b[1;31m---------------------------------------------------------------------------\u001b[0m",
      "\u001b[1;31mNameError\u001b[0m                                 Traceback (most recent call last)",
      "\u001b[1;32mc:\\Users\\erick\\OneDrive\\Escritorio\\python_innovaccion\\kata7.ipynb Cell 4'\u001b[0m in \u001b[0;36m<module>\u001b[1;34m\u001b[0m\n\u001b[0;32m      <a href='vscode-notebook-cell:/c%3A/Users/erick/OneDrive/Escritorio/python_innovaccion/kata7.ipynb#ch0000005?line=0'>1</a>\u001b[0m \u001b[39m# Escribe tu ciclo for para iterar en una lista de planetas\u001b[39;00m\n\u001b[1;32m----> <a href='vscode-notebook-cell:/c%3A/Users/erick/OneDrive/Escritorio/python_innovaccion/kata7.ipynb#ch0000005?line=2'>3</a>\u001b[0m \u001b[39mfor\u001b[39;00m planet \u001b[39min\u001b[39;00m planets:\n\u001b[0;32m      <a href='vscode-notebook-cell:/c%3A/Users/erick/OneDrive/Escritorio/python_innovaccion/kata7.ipynb#ch0000005?line=3'>4</a>\u001b[0m     \u001b[39mprint\u001b[39m(planet)\n",
      "\u001b[1;31mNameError\u001b[0m: name 'planets' is not defined"
     ]
    }
   ],
   "source": []
  }
 ],
 "metadata": {
  "interpreter": {
   "hash": "22398c842aa12e13fa2db631d042e73356993ccf679696a2e44969028959d105"
  },
  "kernelspec": {
   "display_name": "Python 3.10.2 ('env': venv)",
   "language": "python",
   "name": "python3"
  },
  "language_info": {
   "codemirror_mode": {
    "name": "ipython",
    "version": 3
   },
   "file_extension": ".py",
   "mimetype": "text/x-python",
   "name": "python",
   "nbconvert_exporter": "python",
   "pygments_lexer": "ipython3",
   "version": "3.10.2"
  },
  "orig_nbformat": 4
 },
 "nbformat": 4,
 "nbformat_minor": 2
}
